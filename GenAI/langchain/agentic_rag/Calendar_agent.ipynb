{
  "cells": [
    {
      "cell_type": "code",
      "execution_count": null,
      "metadata": {
        "colab": {
          "base_uri": "https://localhost:8080/",
          "height": 35
        },
        "id": "9nR-op3MuTOP",
        "outputId": "e94b5b08-af24-4e26-fe47-e90407fe9ccd"
      },
      "outputs": [
        {
          "output_type": "execute_result",
          "data": {
            "text/plain": [
              "'/content'"
            ],
            "application/vnd.google.colaboratory.intrinsic+json": {
              "type": "string"
            }
          },
          "metadata": {},
          "execution_count": 1
        }
      ],
      "source": [
        "pwd"
      ]
    },
    {
      "cell_type": "code",
      "execution_count": null,
      "metadata": {
        "id": "0vay4eL7DLqV"
      },
      "outputs": [],
      "source": [
        "from googleapiclient.discovery import build\n",
        "from google.oauth2.service_account import Credentials\n",
        "\n",
        "# Path to the service account JSON key file\n",
        "SERVICE_ACCOUNT_FILE = '/content/gen-lang-client-0019433861-62bcc893f3da.json'\n",
        "'''\n",
        "Service Account trong Google Cloud là một loại tài khoản đặc biệt dùng để đại diện cho một ứng dụng hoặc máy chủ trong việc giao tiếp với các dịch vụ Google Cloud. Thay vì người dùng đăng nhập,\n",
        "Service Account hoạt động như một \"robot account\" với các quyền cụ thể được cấp bởi quản trị viên.\n",
        "'''\n",
        "\n",
        "# Define the required scopes\n",
        "SCOPES = ['https://www.googleapis.com/auth/calendar']"
      ]
    },
    {
      "cell_type": "code",
      "execution_count": null,
      "metadata": {
        "id": "6kR_Dmj8NSKa"
      },
      "outputs": [],
      "source": [
        "credentials = Credentials.from_service_account_file(SERVICE_ACCOUNT_FILE, scopes=SCOPES)\n",
        "\n",
        "# Build the Google Calendar API service\n",
        "service = build('calendar', 'v3', credentials=credentials)"
      ]
    },
    {
      "cell_type": "code",
      "source": [
        "calendars = service.calendarList().list().execute()\n",
        "for calendar in calendars['items']:\n",
        "    print(f\"Calendar Name: {calendar['summary']}, ID: {calendar['id']}\")"
      ],
      "metadata": {
        "id": "A2Bvp4WqV2Vu"
      },
      "execution_count": null,
      "outputs": []
    },
    {
      "cell_type": "code",
      "execution_count": null,
      "metadata": {
        "id": "q-d05rdGB7ec"
      },
      "outputs": [],
      "source": [
        "def create_event(summary, start, end, location, description):\n",
        "    \"\"\"\n",
        "    Function to create an event in Google Calendar.\n",
        "\n",
        "    Parameters:\n",
        "        - summary (str): The title of the event.\n",
        "        - start (str): The event start time in ISO 8601 format (e.g., \"2025-01-16T09:00:00\").\n",
        "        - end (str): The event end time in ISO 8601 format (e.g., \"2025-01-16T10:00:00\").\n",
        "        - location (str): The event venue or location.\n",
        "        - description (str): A detailed description of the event.\n",
        "\n",
        "    Description:\n",
        "        This function creates a new event in the user's Google Calendar.\n",
        "        The event is configured with a title, start time, end time, location, and description.\n",
        "        The default time zone is set to \"Asia/Ho_Chi_Minh\". The event will be added to the user's primary calendar.\n",
        "\n",
        "    Returns:\n",
        "        - event (dict): Detailed information about the created event, returned from the Google Calendar API.\n",
        "    \"\"\"\n",
        "\n",
        "    event = None\n",
        "\n",
        "    event = {\n",
        "        'summary': summary,\n",
        "        'start': {\n",
        "            'dateTime': start,\n",
        "            'timeZone': 'Asia/Ho_Chi_Minh',\n",
        "        },\n",
        "        'end': {\n",
        "            'dateTime': end,\n",
        "            'timeZone': 'Asia/Ho_Chi_Minh',\n",
        "        },\n",
        "        'location': location,\n",
        "        'description': description\n",
        "    }\n",
        "\n",
        "    event = service.events().insert(calendarId='primary', body=event).execute()\n",
        "\n",
        "    return event\n"
      ]
    },
    {
      "cell_type": "code",
      "execution_count": 36,
      "metadata": {
        "colab": {
          "base_uri": "https://localhost:8080/"
        },
        "id": "RA_FpD6QL7q7",
        "outputId": "28b4383c-f256-4d6f-a7b7-8316e696ac76"
      },
      "outputs": [
        {
          "name": "stdout",
          "output_type": "stream",
          "text": [
            "Summary of the event: fundamental knowledge sharing\n",
            "Start time of the event (YYYY-MM-DDTHH:MM:SS): 2025-03-13T13:00:00\n",
            "End time of the event (YYYY-MM-DDTHH:MM:SS): 2025-03-13T15:00:00\n",
            "Location of the event: MSTeams\n",
            "Description of the event: LangChain\n",
            "Event created successfully\n",
            "{'kind': 'calendar#event', 'etag': '\"3483534216628062\"', 'id': '3reg0fdkrcmfv8f28u05sb8f8g', 'status': 'confirmed', 'htmlLink': 'https://www.google.com/calendar/event?eid=M3JlZzBmZGtyY21mdjhmMjh1MDVzYjhmOGcgdHJpLWxlQGpvdmlhbC1iYWNrdXAtNDUzNTA0LWYwLmlhbS5nc2VydmljZWFjY291bnQuY29t', 'created': '2025-03-12T08:11:48.000Z', 'updated': '2025-03-12T08:11:48.314Z', 'summary': 'fundamental knowledge sharing', 'description': 'LangChain', 'location': 'MSTeams', 'creator': {'email': 'tri-le@jovial-backup-453504-f0.iam.gserviceaccount.com', 'self': True}, 'organizer': {'email': 'tri-le@jovial-backup-453504-f0.iam.gserviceaccount.com', 'self': True}, 'start': {'dateTime': '2025-03-13T06:00:00Z', 'timeZone': 'Asia/Ho_Chi_Minh'}, 'end': {'dateTime': '2025-03-13T08:00:00Z', 'timeZone': 'Asia/Ho_Chi_Minh'}, 'iCalUID': '3reg0fdkrcmfv8f28u05sb8f8g@google.com', 'sequence': 0, 'reminders': {'useDefault': True}, 'eventType': 'default'}\n",
            "Do you want to continue? (y/n): y\n",
            "Summary of the event: fundamental knowledge sharing\n",
            "Start time of the event (YYYY-MM-DDTHH:MM:SS): 2025-03-14T13:00:00\n",
            "End time of the event (YYYY-MM-DDTHH:MM:SS): 2025-03-14T15:00:00\n",
            "Location of the event: MSTeams\n",
            "Description of the event: LangGraph\n",
            "Event created successfully\n",
            "{'kind': 'calendar#event', 'etag': '\"3483534262880350\"', 'id': 's1lehpch739ud7levloj3k6kfc', 'status': 'confirmed', 'htmlLink': 'https://www.google.com/calendar/event?eid=czFsZWhwY2g3Mzl1ZDdsZXZsb2ozazZrZmMgdHJpLWxlQGpvdmlhbC1iYWNrdXAtNDUzNTA0LWYwLmlhbS5nc2VydmljZWFjY291bnQuY29t', 'created': '2025-03-12T08:12:11.000Z', 'updated': '2025-03-12T08:12:11.440Z', 'summary': 'fundamental knowledge sharing', 'description': 'LangGraph', 'location': 'MSTeams', 'creator': {'email': 'tri-le@jovial-backup-453504-f0.iam.gserviceaccount.com', 'self': True}, 'organizer': {'email': 'tri-le@jovial-backup-453504-f0.iam.gserviceaccount.com', 'self': True}, 'start': {'dateTime': '2025-03-14T06:00:00Z', 'timeZone': 'Asia/Ho_Chi_Minh'}, 'end': {'dateTime': '2025-03-14T08:00:00Z', 'timeZone': 'Asia/Ho_Chi_Minh'}, 'iCalUID': 's1lehpch739ud7levloj3k6kfc@google.com', 'sequence': 0, 'reminders': {'useDefault': True}, 'eventType': 'default'}\n",
            "Do you want to continue? (y/n): y\n",
            "Summary of the event: Meeting with Manager\n",
            "Start time of the event (YYYY-MM-DDTHH:MM:SS): 2025-03-13T15:00:00\n",
            "End time of the event (YYYY-MM-DDTHH:MM:SS): 2025-03-13T16:00:00\n",
            "Location of the event: Inventive Room\n",
            "Description of the event: Progress Report\n",
            "Event created successfully\n",
            "{'kind': 'calendar#event', 'etag': '\"3483534344600062\"', 'id': 'vtfelr31agekeieuad3ntl6cf8', 'status': 'confirmed', 'htmlLink': 'https://www.google.com/calendar/event?eid=dnRmZWxyMzFhZ2VrZWlldWFkM250bDZjZjggdHJpLWxlQGpvdmlhbC1iYWNrdXAtNDUzNTA0LWYwLmlhbS5nc2VydmljZWFjY291bnQuY29t', 'created': '2025-03-12T08:12:52.000Z', 'updated': '2025-03-12T08:12:52.300Z', 'summary': 'Meeting with Manager', 'description': 'Progress Report', 'location': 'Inventive Room', 'creator': {'email': 'tri-le@jovial-backup-453504-f0.iam.gserviceaccount.com', 'self': True}, 'organizer': {'email': 'tri-le@jovial-backup-453504-f0.iam.gserviceaccount.com', 'self': True}, 'start': {'dateTime': '2025-03-13T08:00:00Z', 'timeZone': 'Asia/Ho_Chi_Minh'}, 'end': {'dateTime': '2025-03-13T09:00:00Z', 'timeZone': 'Asia/Ho_Chi_Minh'}, 'iCalUID': 'vtfelr31agekeieuad3ntl6cf8@google.com', 'sequence': 0, 'reminders': {'useDefault': True}, 'eventType': 'default'}\n",
            "Do you want to continue? (y/n): n\n"
          ]
        }
      ],
      "source": [
        "while True:\n",
        "    summary = input(\"Summary of the event: \")\n",
        "    start = input(\"Start time of the event (YYYY-MM-DDTHH:MM:SS): \")\n",
        "    end = input(\"End time of the event (YYYY-MM-DDTHH:MM:SS): \")\n",
        "    location = input(\"Location of the event: \")\n",
        "    description = input(\"Description of the event: \")\n",
        "    test_event = create_event(summary, start, end, location, description)\n",
        "    print(\"Event created successfully\")\n",
        "    print(test_event)\n",
        "    cont = input(\"Do you want to continue? (y/n): \")\n",
        "    if cont.lower() != 'y':\n",
        "        break"
      ]
    },
    {
      "cell_type": "code",
      "source": [
        "def list_events(calendar_id='primary', max_results=10, order_by='startTime', single_events=True):\n",
        "    \"\"\"\n",
        "    Function to list events in Google Calendar.\n",
        "\n",
        "    Parameters:\n",
        "        - calendar_id (str, optional): The ID of the Google Calendar from which to retrieve events. Default is 'primary' (the user's main calendar).\n",
        "        - max_results (int, optional): The maximum number of events to retrieve. Default is 10.\n",
        "        - order_by (str, optional): The criteria for sorting events. Default is 'startTime' (sort by start time).\n",
        "        - single_events (bool, optional): Determines whether to display only individual (non-recurring) events. Default is `True`.\n",
        "\n",
        "    Description:\n",
        "        This function queries the list of upcoming events from Google Calendar based on the provided criteria.\n",
        "        If no events are found, a message will be printed.\n",
        "        If events are found, the function prints the start time and title of each event.\n",
        "\n",
        "    Returns:\n",
        "        - events (list): A list of events, where each event is a dictionary containing detailed information.\n",
        "\n",
        "    Notes:\n",
        "        - The default time zone of the returned events follows the calendar's configuration.\n",
        "        - The calendar ID can be changed if you want to use a different calendar instead of the main one ('primary').\n",
        "    \"\"\"\n",
        "    # Replace 'primary' with the calendar ID if not using the default calendar\n",
        "\n",
        "    events = []\n",
        "\n",
        "    # page_token is a marker showing where to continue fetching results when there are more items that can fit in a single response\n",
        "    page_token = None\n",
        "\n",
        "    while True:\n",
        "      event = service.events().list(calendarId=calendar_id, maxResults=max_results, orderBy=order_by, singleEvents=single_events, pageToken=page_token).execute()\n",
        "      events.extend(event.get('items', []))\n",
        "      page_token = event.get('nextPageToken')\n",
        "      if not page_token:\n",
        "        break\n",
        "\n",
        "    return events\n"
      ],
      "metadata": {
        "id": "MRvvz9uBPsXE"
      },
      "execution_count": 37,
      "outputs": []
    },
    {
      "cell_type": "code",
      "execution_count": 38,
      "metadata": {
        "colab": {
          "base_uri": "https://localhost:8080/"
        },
        "id": "FFh-ZjwQNKJ3",
        "outputId": "b3572260-d4ff-46f4-f819-7156258b5fa8"
      },
      "outputs": [
        {
          "output_type": "execute_result",
          "data": {
            "text/plain": [
              "[{'kind': 'calendar#event',\n",
              "  'etag': '\"3483534216628062\"',\n",
              "  'id': '3reg0fdkrcmfv8f28u05sb8f8g',\n",
              "  'status': 'confirmed',\n",
              "  'htmlLink': 'https://www.google.com/calendar/event?eid=M3JlZzBmZGtyY21mdjhmMjh1MDVzYjhmOGcgdHJpLWxlQGpvdmlhbC1iYWNrdXAtNDUzNTA0LWYwLmlhbS5nc2VydmljZWFjY291bnQuY29t',\n",
              "  'created': '2025-03-12T08:11:48.000Z',\n",
              "  'updated': '2025-03-12T08:11:48.314Z',\n",
              "  'summary': 'fundamental knowledge sharing',\n",
              "  'description': 'LangChain',\n",
              "  'location': 'MSTeams',\n",
              "  'creator': {'email': 'tri-le@jovial-backup-453504-f0.iam.gserviceaccount.com',\n",
              "   'self': True},\n",
              "  'organizer': {'email': 'tri-le@jovial-backup-453504-f0.iam.gserviceaccount.com',\n",
              "   'self': True},\n",
              "  'start': {'dateTime': '2025-03-13T06:00:00Z',\n",
              "   'timeZone': 'Asia/Ho_Chi_Minh'},\n",
              "  'end': {'dateTime': '2025-03-13T08:00:00Z', 'timeZone': 'Asia/Ho_Chi_Minh'},\n",
              "  'iCalUID': '3reg0fdkrcmfv8f28u05sb8f8g@google.com',\n",
              "  'sequence': 0,\n",
              "  'reminders': {'useDefault': True},\n",
              "  'eventType': 'default'},\n",
              " {'kind': 'calendar#event',\n",
              "  'etag': '\"3483534344600062\"',\n",
              "  'id': 'vtfelr31agekeieuad3ntl6cf8',\n",
              "  'status': 'confirmed',\n",
              "  'htmlLink': 'https://www.google.com/calendar/event?eid=dnRmZWxyMzFhZ2VrZWlldWFkM250bDZjZjggdHJpLWxlQGpvdmlhbC1iYWNrdXAtNDUzNTA0LWYwLmlhbS5nc2VydmljZWFjY291bnQuY29t',\n",
              "  'created': '2025-03-12T08:12:52.000Z',\n",
              "  'updated': '2025-03-12T08:12:52.300Z',\n",
              "  'summary': 'Meeting with Manager',\n",
              "  'description': 'Progress Report',\n",
              "  'location': 'Inventive Room',\n",
              "  'creator': {'email': 'tri-le@jovial-backup-453504-f0.iam.gserviceaccount.com',\n",
              "   'self': True},\n",
              "  'organizer': {'email': 'tri-le@jovial-backup-453504-f0.iam.gserviceaccount.com',\n",
              "   'self': True},\n",
              "  'start': {'dateTime': '2025-03-13T08:00:00Z',\n",
              "   'timeZone': 'Asia/Ho_Chi_Minh'},\n",
              "  'end': {'dateTime': '2025-03-13T09:00:00Z', 'timeZone': 'Asia/Ho_Chi_Minh'},\n",
              "  'iCalUID': 'vtfelr31agekeieuad3ntl6cf8@google.com',\n",
              "  'sequence': 0,\n",
              "  'reminders': {'useDefault': True},\n",
              "  'eventType': 'default'},\n",
              " {'kind': 'calendar#event',\n",
              "  'etag': '\"3483534262880350\"',\n",
              "  'id': 's1lehpch739ud7levloj3k6kfc',\n",
              "  'status': 'confirmed',\n",
              "  'htmlLink': 'https://www.google.com/calendar/event?eid=czFsZWhwY2g3Mzl1ZDdsZXZsb2ozazZrZmMgdHJpLWxlQGpvdmlhbC1iYWNrdXAtNDUzNTA0LWYwLmlhbS5nc2VydmljZWFjY291bnQuY29t',\n",
              "  'created': '2025-03-12T08:12:11.000Z',\n",
              "  'updated': '2025-03-12T08:12:11.440Z',\n",
              "  'summary': 'fundamental knowledge sharing',\n",
              "  'description': 'LangGraph',\n",
              "  'location': 'MSTeams',\n",
              "  'creator': {'email': 'tri-le@jovial-backup-453504-f0.iam.gserviceaccount.com',\n",
              "   'self': True},\n",
              "  'organizer': {'email': 'tri-le@jovial-backup-453504-f0.iam.gserviceaccount.com',\n",
              "   'self': True},\n",
              "  'start': {'dateTime': '2025-03-14T06:00:00Z',\n",
              "   'timeZone': 'Asia/Ho_Chi_Minh'},\n",
              "  'end': {'dateTime': '2025-03-14T08:00:00Z', 'timeZone': 'Asia/Ho_Chi_Minh'},\n",
              "  'iCalUID': 's1lehpch739ud7levloj3k6kfc@google.com',\n",
              "  'sequence': 0,\n",
              "  'reminders': {'useDefault': True},\n",
              "  'eventType': 'default'}]"
            ]
          },
          "metadata": {},
          "execution_count": 38
        }
      ],
      "source": [
        "list_events()"
      ]
    },
    {
      "cell_type": "code",
      "execution_count": 39,
      "metadata": {
        "id": "UZCchbOfJQom"
      },
      "outputs": [],
      "source": [
        "def delete_event(event_id, calendar_id='primary'):\n",
        "    \"\"\"\n",
        "    Function to delete an event in Google Calendar.\n",
        "\n",
        "    Parameters:\n",
        "        - event_id (str): The ID of the event to be deleted.\n",
        "        - calendar_id (str, optional): The ID of the Google Calendar from which the event should be deleted. Default is 'primary' (the user's main calendar).\n",
        "\n",
        "    Description:\n",
        "        This function deletes an event in Google Calendar based on `event_id` and `calendar_id`.\n",
        "        If the deletion is successful, a confirmation message will be printed.\n",
        "        If an error occurs, the error details will be displayed for the user to handle.\n",
        "\n",
        "    Returns:\n",
        "        - No return value. The result is communicated through `print` statements.\n",
        "    \"\"\"\n",
        "    # Lập trình tại đây\n",
        "    event = None\n",
        "\n",
        "    try:\n",
        "      service.events().delete(calendarId=calendar_id, eventId=event_id).execute()\n",
        "      print(f\"Event deleted: {event_id}\\n\")\n",
        "    except Exception as e:\n",
        "      print(f\"Cannot delete event: {e}\\n\")\n",
        "\n",
        "    return\n"
      ]
    },
    {
      "cell_type": "code",
      "execution_count": 41,
      "metadata": {
        "colab": {
          "base_uri": "https://localhost:8080/"
        },
        "id": "4KRmOfMaMqb0",
        "outputId": "29167693-1ef2-4049-e31f-5a46035ff460"
      },
      "outputs": [
        {
          "output_type": "stream",
          "name": "stdout",
          "text": [
            "Event ID: 3reg0fdkrcmfv8f28u05sb8f8g\n",
            "\n",
            "Event Start Time: 2025-03-13T06:00:00Z\n",
            "\n",
            "Event End Time: 2025-03-13T08:00:00Z\n",
            "\n",
            "Event Title: fundamental knowledge sharing\n",
            "\n",
            "Event Description: LangChain\n",
            "\n",
            "Event Location: MSTeams\n",
            "\n",
            "Do you want to delete this event? (y/n): n\n",
            "---------------------------------------------------------\n",
            "Event ID: vtfelr31agekeieuad3ntl6cf8\n",
            "\n",
            "Event Start Time: 2025-03-13T08:00:00Z\n",
            "\n",
            "Event End Time: 2025-03-13T09:00:00Z\n",
            "\n",
            "Event Title: Meeting with Manager\n",
            "\n",
            "Event Description: Progress Report\n",
            "\n",
            "Event Location: Inventive Room\n",
            "\n",
            "Do you want to delete this event? (y/n): n\n",
            "---------------------------------------------------------\n",
            "Event ID: s1lehpch739ud7levloj3k6kfc\n",
            "\n",
            "Event Start Time: 2025-03-14T06:00:00Z\n",
            "\n",
            "Event End Time: 2025-03-14T08:00:00Z\n",
            "\n",
            "Event Title: fundamental knowledge sharing\n",
            "\n",
            "Event Description: LangGraph\n",
            "\n",
            "Event Location: MSTeams\n",
            "\n",
            "Do you want to delete this event? (y/n): n\n",
            "---------------------------------------------------------\n"
          ]
        }
      ],
      "source": [
        "# delete_event(\"bl6j3n08ud2rt1cbldtlne54tc\")\n",
        "# List event to delete\n",
        "for event in list_events():\n",
        "    print(f\"Event ID: {event['id']}\\n\")\n",
        "    print(f\"Event Start Time: {event['start']['dateTime']}\\n\")\n",
        "    print(f\"Event End Time: {event['end']['dateTime']}\\n\")\n",
        "    print(f\"Event Title: {event['summary']}\\n\")\n",
        "    print(f\"Event Description: {event['description']}\\n\")\n",
        "    print(f\"Event Location: {event['location']}\\n\")\n",
        "    if input(\"Do you want to delete this event? (y/n): \") == 'y':\n",
        "        delete_event(event['id'])\n",
        "        continue\n",
        "    print(\"---------------------------------------------------------\")"
      ]
    },
    {
      "cell_type": "code",
      "execution_count": 42,
      "metadata": {
        "id": "EUvHM-NWFtaW"
      },
      "outputs": [],
      "source": [
        "def finish():\n",
        "    # Stop when finishing the task\n",
        "    return None"
      ]
    },
    {
      "cell_type": "code",
      "execution_count": 96,
      "metadata": {
        "id": "SJYtVUafBuQ7"
      },
      "outputs": [],
      "source": [
        "from openai import OpenAI\n",
        "from google.colab import userdata\n",
        "\n",
        "def reasoning_step(state, user_input, intermediate_results):\n",
        "    client = OpenAI(api_key=userdata.get('OPENAI_API_KEY'))\n",
        "\n",
        "    messages = [\n",
        "        {\n",
        "            \"role\": \"user\",\n",
        "            \"content\": (\n",
        "                \"You are a smart and efficient reasoning and acting assistant agent. Based on the current state along with the user input, decide the next action.\\n\"\n",
        "                f\"State: {state}\\n\"\n",
        "                f\"User input: {user_input}\\n\"\n",
        "                f\"Intermediate results: {intermediate_results}\\n\\n\"\n",
        "                \"Respond with one of these actions: \\n\"\n",
        "                \"1. Create event\\n\"\n",
        "                \"2. Delete event\\n\"\n",
        "                \"3. List events\\n\"\n",
        "                \"4. Finish\\n\"\n",
        "            )\n",
        "        }\n",
        "    ]\n",
        "\n",
        "    response = client.chat.completions.create(\n",
        "        model=\"gpt-4o\",\n",
        "        messages=messages,\n",
        "        response_format={\n",
        "            \"type\": \"json_schema\",\n",
        "            \"json_schema\": {\n",
        "                \"name\": \"agent_schema\",\n",
        "                \"schema\": {\n",
        "                    \"type\": \"object\",\n",
        "                    \"required\": [],\n",
        "                    \"properties\": {}\n",
        "                },\n",
        "                \"strict\": False\n",
        "            }\n",
        "        },\n",
        "        tools=[\n",
        "            {\n",
        "              \"type\": \"function\",\n",
        "              \"function\": {\n",
        "                  \"name\": \"create_event\",\n",
        "                  \"description\": \"Function to create an event in Google Calendar.\",\n",
        "                  \"strict\": True,\n",
        "                  \"parameters\": {\n",
        "                    \"type\": \"object\",\n",
        "                    \"required\": [\n",
        "                      \"summary\",\n",
        "                      \"start\",\n",
        "                      \"end\",\n",
        "                      \"location\",\n",
        "                      \"description\"\n",
        "                    ],\n",
        "                    \"properties\": {\n",
        "                      \"summary\": {\n",
        "                        \"type\": \"string\",\n",
        "                        \"description\": \"The title of the event.\"\n",
        "                      },\n",
        "                      \"start\": {\n",
        "                        \"type\": \"string\",\n",
        "                        \"description\": \"The event start time in ISO 8601 format (e.g., '2025-01-16T09:00:00').\"\n",
        "                      },\n",
        "                      \"end\": {\n",
        "                        \"type\": \"string\",\n",
        "                        \"description\": \"The event end time in ISO 8601 format (e.g., '2025-01-16T10:00:00').\"\n",
        "                      },\n",
        "                      \"location\": {\n",
        "                        \"type\": \"string\",\n",
        "                        \"description\": \"The event venue or location.\"\n",
        "                      },\n",
        "                      \"description\": {\n",
        "                        \"type\": \"string\",\n",
        "                        \"description\": \"A detailed description of the event.\"\n",
        "                      }\n",
        "                    },\n",
        "                    \"additionalProperties\": False\n",
        "                  }\n",
        "              }\n",
        "            },\n",
        "            {\n",
        "              \"type\": \"function\",\n",
        "              \"function\": {\n",
        "                  \"name\": \"list_events\",\n",
        "                  \"description\": \"Function to list events in Google Calendar.\",\n",
        "                  \"strict\": True,\n",
        "                  \"parameters\": {\n",
        "                    \"type\": \"object\",\n",
        "                    \"required\": [\n",
        "                      \"calendar_id\",\n",
        "                      \"max_results\",\n",
        "                      \"order_by\",\n",
        "                      \"single_events\"\n",
        "                    ],\n",
        "                    \"properties\": {\n",
        "                      \"calendar_id\": {\n",
        "                        \"type\": \"string\",\n",
        "                        \"description\": \"The ID of the Google Calendar from which to retrieve events. Default is 'primary'.\"\n",
        "                      },\n",
        "                      \"max_results\": {\n",
        "                        \"type\": \"number\",\n",
        "                        \"description\": \"The maximum number of events to retrieve. Default is 10.\"\n",
        "                      },\n",
        "                      \"order_by\": {\n",
        "                        \"type\": \"string\",\n",
        "                        \"description\": \"The criteria for sorting events. Default is 'startTime'.\"\n",
        "                      },\n",
        "                      \"single_events\": {\n",
        "                        \"type\": \"boolean\",\n",
        "                        \"description\": \"Determines whether to display only individual (non-recurring) events. Default is True.\"\n",
        "                      }\n",
        "                    },\n",
        "                    \"additionalProperties\": False\n",
        "                  }\n",
        "                }\n",
        "            },\n",
        "            {\n",
        "              \"type\": \"function\",\n",
        "              \"function\": {\n",
        "                  \"name\": \"delete_event\",\n",
        "                  \"description\": \"Function to delete an event in Google Calendar.\",\n",
        "                  \"strict\": True,\n",
        "                  \"parameters\": {\n",
        "                    \"type\": \"object\",\n",
        "                    \"required\": [\n",
        "                      \"event_id\",\n",
        "                      \"calendar_id\"\n",
        "                    ],\n",
        "                    \"properties\": {\n",
        "                      \"event_id\": {\n",
        "                        \"type\": \"string\",\n",
        "                        \"description\": \"The ID of the event to be deleted.\"\n",
        "                      },\n",
        "                      \"calendar_id\": {\n",
        "                        \"type\": \"string\",\n",
        "                        \"description\": \"The ID of the Google Calendar from which the event should be deleted. Default is 'primary'.\"\n",
        "                      }\n",
        "                    },\n",
        "                    \"additionalProperties\": False\n",
        "                  }\n",
        "              }\n",
        "            },\n",
        "            {\n",
        "              \"type\": \"function\",\n",
        "              \"function\": {\n",
        "                  \"name\": \"finish\",\n",
        "                  \"type\": \"function\",\n",
        "                  \"description\": \"Stop when finishing the task\",\n",
        "                  \"strict\": True,\n",
        "                  \"parameters\": {\n",
        "                    \"type\": \"object\",\n",
        "                    \"properties\": {},\n",
        "                    \"additionalProperties\": False\n",
        "                  }\n",
        "              }\n",
        "            }\n",
        "        ],\n",
        "        tool_choice=\"required\",\n",
        "        temperature=1,\n",
        "        max_completion_tokens=2048,\n",
        "        top_p=1,\n",
        "        frequency_penalty=0,\n",
        "        presence_penalty=0\n",
        "        )\n",
        "\n",
        "    return response"
      ]
    },
    {
      "cell_type": "code",
      "execution_count": 97,
      "metadata": {
        "id": "DPXogeHSIloG"
      },
      "outputs": [],
      "source": [
        "assistant_message = reasoning_step(\n",
        "    \"start\",\n",
        "    \"Tạo lịch họp với a Quốc Manager vào thứ 14/03/2025 lúc 3h chiều tới 4h chiều về kế hoạch tranining intern sắp tới\",\n",
        "    []\n",
        ").choices[0].message"
      ]
    },
    {
      "cell_type": "code",
      "execution_count": 98,
      "metadata": {
        "colab": {
          "base_uri": "https://localhost:8080/"
        },
        "id": "tqIRl-FXEWuL",
        "outputId": "ea755eea-521c-442e-f6be-e80195956b81"
      },
      "outputs": [
        {
          "output_type": "execute_result",
          "data": {
            "text/plain": [
              "ChatCompletionMessage(content=None, refusal=None, role='assistant', audio=None, function_call=None, tool_calls=[ChatCompletionMessageToolCall(id='call_DBVwcE9gMTZ1SgMvZj0EbBxb', function=Function(arguments='{\"summary\":\"Lịch họp với anh Quốc Manager\",\"start\":\"2025-03-14T15:00:00\",\"end\":\"2025-03-14T16:00:00\",\"location\":\"Văn phòng chính\",\"description\":\"Thảo luận về kế hoạch training cho intern sắp tới.\"}', name='create_event'), type='function')], annotations=[])"
            ]
          },
          "metadata": {},
          "execution_count": 98
        }
      ],
      "source": [
        "assistant_message"
      ]
    },
    {
      "cell_type": "markdown",
      "metadata": {
        "id": "qwacY7FNR36M"
      },
      "source": []
    },
    {
      "cell_type": "code",
      "execution_count": 99,
      "metadata": {
        "id": "5h3FlMyrC5Pj"
      },
      "outputs": [],
      "source": [
        "import json\n",
        "\n",
        "def process_tool_calls(response):\n",
        "    # Extract tool call information from the response\n",
        "    tool_calls = response.tool_calls\n",
        "\n",
        "    if tool_calls:\n",
        "        # Extract tool function details\n",
        "        tool_call_id = tool_calls[0].id\n",
        "        tool_function_name = tool_calls[0].function.name\n",
        "        tool_query_string = json.loads(tool_calls[0].function.arguments)\n",
        "\n",
        "        # Print extracted details\n",
        "        print('Tool Function Name:', tool_function_name)\n",
        "        print('Tool Query String:', tool_query_string)\n",
        "        print(\"\\n\")\n",
        "\n",
        "        return tool_function_name, tool_query_string\n",
        "\n",
        "    else:\n",
        "        print(\"No tool calls identified.\")\n",
        "        return None, None\n"
      ]
    },
    {
      "cell_type": "code",
      "execution_count": 100,
      "metadata": {
        "id": "t7HaxdD7EUHN"
      },
      "outputs": [],
      "source": [
        "assistant_message = reasoning_step(\n",
        "    \"start\",\n",
        "    \"Liệt kê các danh sách cuộc họp\",\n",
        "    []\n",
        ").choices[0].message"
      ]
    },
    {
      "cell_type": "code",
      "execution_count": 101,
      "metadata": {
        "colab": {
          "base_uri": "https://localhost:8080/"
        },
        "id": "Blc9Fkl8EqXR",
        "outputId": "b3016c2a-b68f-477c-ada6-a786cae2c975"
      },
      "outputs": [
        {
          "output_type": "execute_result",
          "data": {
            "text/plain": [
              "ChatCompletionMessage(content=None, refusal=None, role='assistant', audio=None, function_call=None, tool_calls=[ChatCompletionMessageToolCall(id='call_lJ4NcJgPh08a0K5OMDUBURnp', function=Function(arguments='{\"calendar_id\":\"primary\",\"max_results\":10,\"order_by\":\"startTime\",\"single_events\":true}', name='list_events'), type='function')], annotations=[])"
            ]
          },
          "metadata": {},
          "execution_count": 101
        }
      ],
      "source": [
        "assistant_message"
      ]
    },
    {
      "cell_type": "code",
      "execution_count": 102,
      "metadata": {
        "id": "nhA0dZitHc0D"
      },
      "outputs": [],
      "source": [
        "function_mapping = {\n",
        "    \"create_event\": create_event,\n",
        "    \"delete_event\": delete_event,\n",
        "    \"list_events\": list_events,\n",
        "    \"finish\": finish\n",
        "}"
      ]
    },
    {
      "cell_type": "code",
      "source": [
        "list_events()"
      ],
      "metadata": {
        "colab": {
          "base_uri": "https://localhost:8080/"
        },
        "id": "3wLW0bwCm-XK",
        "outputId": "0f0e2edc-31db-49c9-b107-0fcee8615aeb"
      },
      "execution_count": 103,
      "outputs": [
        {
          "output_type": "execute_result",
          "data": {
            "text/plain": [
              "[{'kind': 'calendar#event',\n",
              "  'etag': '\"3483534216628062\"',\n",
              "  'id': '3reg0fdkrcmfv8f28u05sb8f8g',\n",
              "  'status': 'confirmed',\n",
              "  'htmlLink': 'https://www.google.com/calendar/event?eid=M3JlZzBmZGtyY21mdjhmMjh1MDVzYjhmOGcgdHJpLWxlQGpvdmlhbC1iYWNrdXAtNDUzNTA0LWYwLmlhbS5nc2VydmljZWFjY291bnQuY29t',\n",
              "  'created': '2025-03-12T08:11:48.000Z',\n",
              "  'updated': '2025-03-12T08:11:48.314Z',\n",
              "  'summary': 'fundamental knowledge sharing',\n",
              "  'description': 'LangChain',\n",
              "  'location': 'MSTeams',\n",
              "  'creator': {'email': 'tri-le@jovial-backup-453504-f0.iam.gserviceaccount.com',\n",
              "   'self': True},\n",
              "  'organizer': {'email': 'tri-le@jovial-backup-453504-f0.iam.gserviceaccount.com',\n",
              "   'self': True},\n",
              "  'start': {'dateTime': '2025-03-13T06:00:00Z',\n",
              "   'timeZone': 'Asia/Ho_Chi_Minh'},\n",
              "  'end': {'dateTime': '2025-03-13T08:00:00Z', 'timeZone': 'Asia/Ho_Chi_Minh'},\n",
              "  'iCalUID': '3reg0fdkrcmfv8f28u05sb8f8g@google.com',\n",
              "  'sequence': 0,\n",
              "  'reminders': {'useDefault': True},\n",
              "  'eventType': 'default'},\n",
              " {'kind': 'calendar#event',\n",
              "  'etag': '\"3483534344600062\"',\n",
              "  'id': 'vtfelr31agekeieuad3ntl6cf8',\n",
              "  'status': 'confirmed',\n",
              "  'htmlLink': 'https://www.google.com/calendar/event?eid=dnRmZWxyMzFhZ2VrZWlldWFkM250bDZjZjggdHJpLWxlQGpvdmlhbC1iYWNrdXAtNDUzNTA0LWYwLmlhbS5nc2VydmljZWFjY291bnQuY29t',\n",
              "  'created': '2025-03-12T08:12:52.000Z',\n",
              "  'updated': '2025-03-12T08:12:52.300Z',\n",
              "  'summary': 'Meeting with Manager',\n",
              "  'description': 'Progress Report',\n",
              "  'location': 'Inventive Room',\n",
              "  'creator': {'email': 'tri-le@jovial-backup-453504-f0.iam.gserviceaccount.com',\n",
              "   'self': True},\n",
              "  'organizer': {'email': 'tri-le@jovial-backup-453504-f0.iam.gserviceaccount.com',\n",
              "   'self': True},\n",
              "  'start': {'dateTime': '2025-03-13T08:00:00Z',\n",
              "   'timeZone': 'Asia/Ho_Chi_Minh'},\n",
              "  'end': {'dateTime': '2025-03-13T09:00:00Z', 'timeZone': 'Asia/Ho_Chi_Minh'},\n",
              "  'iCalUID': 'vtfelr31agekeieuad3ntl6cf8@google.com',\n",
              "  'sequence': 0,\n",
              "  'reminders': {'useDefault': True},\n",
              "  'eventType': 'default'},\n",
              " {'kind': 'calendar#event',\n",
              "  'etag': '\"3483534262880350\"',\n",
              "  'id': 's1lehpch739ud7levloj3k6kfc',\n",
              "  'status': 'confirmed',\n",
              "  'htmlLink': 'https://www.google.com/calendar/event?eid=czFsZWhwY2g3Mzl1ZDdsZXZsb2ozazZrZmMgdHJpLWxlQGpvdmlhbC1iYWNrdXAtNDUzNTA0LWYwLmlhbS5nc2VydmljZWFjY291bnQuY29t',\n",
              "  'created': '2025-03-12T08:12:11.000Z',\n",
              "  'updated': '2025-03-12T08:12:11.440Z',\n",
              "  'summary': 'fundamental knowledge sharing',\n",
              "  'description': 'LangGraph',\n",
              "  'location': 'MSTeams',\n",
              "  'creator': {'email': 'tri-le@jovial-backup-453504-f0.iam.gserviceaccount.com',\n",
              "   'self': True},\n",
              "  'organizer': {'email': 'tri-le@jovial-backup-453504-f0.iam.gserviceaccount.com',\n",
              "   'self': True},\n",
              "  'start': {'dateTime': '2025-03-14T06:00:00Z',\n",
              "   'timeZone': 'Asia/Ho_Chi_Minh'},\n",
              "  'end': {'dateTime': '2025-03-14T08:00:00Z', 'timeZone': 'Asia/Ho_Chi_Minh'},\n",
              "  'iCalUID': 's1lehpch739ud7levloj3k6kfc@google.com',\n",
              "  'sequence': 0,\n",
              "  'reminders': {'useDefault': True},\n",
              "  'eventType': 'default'}]"
            ]
          },
          "metadata": {},
          "execution_count": 103
        }
      ]
    },
    {
      "cell_type": "code",
      "execution_count": 104,
      "metadata": {
        "id": "7NM8XdMhE5bt"
      },
      "outputs": [],
      "source": [
        "def react_agent(user_input):\n",
        "    state = {\"status\": \"start\", \"history\": []}  # Initialize state with status and empty history\n",
        "    intermediate_results = []  # List to store intermediate results during processing\n",
        "\n",
        "    while True:\n",
        "        # Reasoning step: Determine the next action\n",
        "        action_response = reasoning_step(state, user_input, intermediate_results).choices[0].message\n",
        "\n",
        "        action_response = process_tool_calls(action_response)  # Process the message to extract action and parameters\n",
        "        tool_function_name, tool_query_string = action_response  # Get the function name and parameters to pass\n",
        "\n",
        "        if tool_function_name == \"finish\":\n",
        "            return intermediate_results[-1][\"result\"]  # Return the final result if finished\n",
        "            break  # Exit the loop (not really needed as it already returned above)\n",
        "\n",
        "        # Execute the selected action\n",
        "        function_to_call = function_mapping[tool_function_name]  # Get the appropriate function from the mapping\n",
        "\n",
        "        action_result = function_to_call(**tool_query_string)  # Call the function with the passed parameters\n",
        "\n",
        "        # Store intermediate results\n",
        "        intermediate_results.append({\n",
        "            \"action\": tool_function_name,  # Name of the executed action\n",
        "            \"parameters\": tool_query_string,  # Parameters used\n",
        "            \"result\": action_result  # Result returned from the action\n",
        "        })\n",
        "\n",
        "        # Update state\n",
        "        state.update({\n",
        "            \"status\": \"in_progress\",  # Set the status to in progress\n",
        "            \"last_action\": tool_function_name,  # Record the last action\n",
        "            \"last_parameters\": tool_query_string  # Record the last parameters\n",
        "        })\n",
        "\n",
        "    return intermediate_results  # Return the list of intermediate results (in case there was no previous return)"
      ]
    },
    {
      "cell_type": "code",
      "execution_count": 106,
      "metadata": {
        "colab": {
          "base_uri": "https://localhost:8080/"
        },
        "id": "uA1u8_AiS3xn",
        "outputId": "719b4b36-78af-481b-d40f-4ca2b821b307"
      },
      "outputs": [
        {
          "output_type": "stream",
          "name": "stdout",
          "text": [
            "Tool Function Name: list_events\n",
            "Tool Query String: {'calendar_id': 'primary', 'max_results': 10, 'order_by': 'startTime', 'single_events': True}\n",
            "\n",
            "\n",
            "Tool Function Name: finish\n",
            "Tool Query String: {}\n",
            "\n",
            "\n",
            "{'kind': 'calendar#event', 'etag': '\"3483534216628062\"', 'id': '3reg0fdkrcmfv8f28u05sb8f8g', 'status': 'confirmed', 'htmlLink': 'https://www.google.com/calendar/event?eid=M3JlZzBmZGtyY21mdjhmMjh1MDVzYjhmOGcgdHJpLWxlQGpvdmlhbC1iYWNrdXAtNDUzNTA0LWYwLmlhbS5nc2VydmljZWFjY291bnQuY29t', 'created': '2025-03-12T08:11:48.000Z', 'updated': '2025-03-12T08:11:48.314Z', 'summary': 'fundamental knowledge sharing', 'description': 'LangChain', 'location': 'MSTeams', 'creator': {'email': 'tri-le@jovial-backup-453504-f0.iam.gserviceaccount.com', 'self': True}, 'organizer': {'email': 'tri-le@jovial-backup-453504-f0.iam.gserviceaccount.com', 'self': True}, 'start': {'dateTime': '2025-03-13T06:00:00Z', 'timeZone': 'Asia/Ho_Chi_Minh'}, 'end': {'dateTime': '2025-03-13T08:00:00Z', 'timeZone': 'Asia/Ho_Chi_Minh'}, 'iCalUID': '3reg0fdkrcmfv8f28u05sb8f8g@google.com', 'sequence': 0, 'reminders': {'useDefault': True}, 'eventType': 'default'}\n",
            "{'kind': 'calendar#event', 'etag': '\"3483534344600062\"', 'id': 'vtfelr31agekeieuad3ntl6cf8', 'status': 'confirmed', 'htmlLink': 'https://www.google.com/calendar/event?eid=dnRmZWxyMzFhZ2VrZWlldWFkM250bDZjZjggdHJpLWxlQGpvdmlhbC1iYWNrdXAtNDUzNTA0LWYwLmlhbS5nc2VydmljZWFjY291bnQuY29t', 'created': '2025-03-12T08:12:52.000Z', 'updated': '2025-03-12T08:12:52.300Z', 'summary': 'Meeting with Manager', 'description': 'Progress Report', 'location': 'Inventive Room', 'creator': {'email': 'tri-le@jovial-backup-453504-f0.iam.gserviceaccount.com', 'self': True}, 'organizer': {'email': 'tri-le@jovial-backup-453504-f0.iam.gserviceaccount.com', 'self': True}, 'start': {'dateTime': '2025-03-13T08:00:00Z', 'timeZone': 'Asia/Ho_Chi_Minh'}, 'end': {'dateTime': '2025-03-13T09:00:00Z', 'timeZone': 'Asia/Ho_Chi_Minh'}, 'iCalUID': 'vtfelr31agekeieuad3ntl6cf8@google.com', 'sequence': 0, 'reminders': {'useDefault': True}, 'eventType': 'default'}\n",
            "{'kind': 'calendar#event', 'etag': '\"3483534262880350\"', 'id': 's1lehpch739ud7levloj3k6kfc', 'status': 'confirmed', 'htmlLink': 'https://www.google.com/calendar/event?eid=czFsZWhwY2g3Mzl1ZDdsZXZsb2ozazZrZmMgdHJpLWxlQGpvdmlhbC1iYWNrdXAtNDUzNTA0LWYwLmlhbS5nc2VydmljZWFjY291bnQuY29t', 'created': '2025-03-12T08:12:11.000Z', 'updated': '2025-03-12T08:12:11.440Z', 'summary': 'fundamental knowledge sharing', 'description': 'LangGraph', 'location': 'MSTeams', 'creator': {'email': 'tri-le@jovial-backup-453504-f0.iam.gserviceaccount.com', 'self': True}, 'organizer': {'email': 'tri-le@jovial-backup-453504-f0.iam.gserviceaccount.com', 'self': True}, 'start': {'dateTime': '2025-03-14T06:00:00Z', 'timeZone': 'Asia/Ho_Chi_Minh'}, 'end': {'dateTime': '2025-03-14T08:00:00Z', 'timeZone': 'Asia/Ho_Chi_Minh'}, 'iCalUID': 's1lehpch739ud7levloj3k6kfc@google.com', 'sequence': 0, 'reminders': {'useDefault': True}, 'eventType': 'default'}\n"
          ]
        }
      ],
      "source": [
        "user_query = \"Liệt kê các sự kiến cho tôi\"  # Đầu vào của người dùng\n",
        "final_answer = react_agent(user_query)\n",
        "for item in final_answer:\n",
        "    print(item)\n",
        "# print(f\"Final Output: {final_answer}\")"
      ]
    },
    {
      "cell_type": "code",
      "source": [],
      "metadata": {
        "id": "D14U6Y4VnWC1"
      },
      "execution_count": null,
      "outputs": []
    }
  ],
  "metadata": {
    "colab": {
      "provenance": []
    },
    "kernelspec": {
      "display_name": "Python 3",
      "name": "python3"
    },
    "language_info": {
      "codemirror_mode": {
        "name": "ipython",
        "version": 3
      },
      "file_extension": ".py",
      "mimetype": "text/x-python",
      "name": "python",
      "nbconvert_exporter": "python",
      "pygments_lexer": "ipython3",
      "version": "3.11.9"
    }
  },
  "nbformat": 4,
  "nbformat_minor": 0
}